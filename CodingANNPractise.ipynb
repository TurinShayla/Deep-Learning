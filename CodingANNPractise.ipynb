{
  "nbformat": 4,
  "nbformat_minor": 0,
  "metadata": {
    "colab": {
      "name": "CodingANNPractise.ipynb",
      "provenance": [],
      "collapsed_sections": [],
      "authorship_tag": "ABX9TyPo80mN8Yjmd438KRflzdPP",
      "include_colab_link": true
    },
    "kernelspec": {
      "name": "python3",
      "display_name": "Python 3"
    },
    "language_info": {
      "name": "python"
    }
  },
  "cells": [
    {
      "cell_type": "markdown",
      "metadata": {
        "id": "view-in-github",
        "colab_type": "text"
      },
      "source": [
        "<a href=\"https://colab.research.google.com/github/TurinShayla/Deep-Learning/blob/main/CodingANNPractise.ipynb\" target=\"_parent\"><img src=\"https://colab.research.google.com/assets/colab-badge.svg\" alt=\"Open In Colab\"/></a>"
      ]
    },
    {
      "cell_type": "markdown",
      "source": [
        "#Artificial Neural Network"
      ],
      "metadata": {
        "id": "qxPNTp5q36md"
      }
    },
    {
      "cell_type": "markdown",
      "source": [
        "###Importing the libraries"
      ],
      "metadata": {
        "id": "PAYM--h14EPK"
      }
    },
    {
      "cell_type": "code",
      "source": [
        "import numpy as np\n",
        "import matplotlib.pyplot as plt\n",
        "import pandas as pd\n",
        "import tensorflow as tf"
      ],
      "metadata": {
        "id": "KXxod06u7SK9"
      },
      "execution_count": 1,
      "outputs": []
    },
    {
      "cell_type": "code",
      "source": [
        "tf.__version__"
      ],
      "metadata": {
        "colab": {
          "base_uri": "https://localhost:8080/",
          "height": 35
        },
        "id": "5jEUVnlm8yXD",
        "outputId": "9c5eb217-9d1a-4c1a-8ce0-bc77ff00a51b"
      },
      "execution_count": 2,
      "outputs": [
        {
          "output_type": "execute_result",
          "data": {
            "application/vnd.google.colaboratory.intrinsic+json": {
              "type": "string"
            },
            "text/plain": [
              "'2.7.0'"
            ]
          },
          "metadata": {},
          "execution_count": 2
        }
      ]
    },
    {
      "cell_type": "markdown",
      "source": [
        "## Part 1 Data Preprocessing\n",
        "\n"
      ],
      "metadata": {
        "id": "Gad2efzp4P8v"
      }
    },
    {
      "cell_type": "markdown",
      "source": [
        "###Importing the dataset"
      ],
      "metadata": {
        "id": "UGbyNidi4fQW"
      }
    },
    {
      "cell_type": "code",
      "source": [
        "dataset=pd.read_csv('Churn_Modelling.csv')\n",
        "X=dataset.iloc[:,3:-1].values # first 3 ta column dorkar nai, tai all column prothom tin ta bad diye shuru ebong shesher ag porjnto\n",
        "Y=dataset.iloc[:,-1].values\n",
        "print(X)\n",
        "print(Y)"
      ],
      "metadata": {
        "id": "00jHoSn_-OZ_"
      },
      "execution_count": null,
      "outputs": []
    },
    {
      "cell_type": "markdown",
      "source": [
        "Check missing data"
      ],
      "metadata": {
        "id": "CTjk1FCd_sXl"
      }
    },
    {
      "cell_type": "code",
      "source": [
        "dataset.isnull().values.any()"
      ],
      "metadata": {
        "colab": {
          "base_uri": "https://localhost:8080/"
        },
        "id": "j-24bDSP_udT",
        "outputId": "bcf982e2-9f85-4122-bb03-78985a552013"
      },
      "execution_count": 7,
      "outputs": [
        {
          "output_type": "execute_result",
          "data": {
            "text/plain": [
              "False"
            ]
          },
          "metadata": {},
          "execution_count": 7
        }
      ]
    },
    {
      "cell_type": "markdown",
      "source": [
        "###Encoding categorical data"
      ],
      "metadata": {
        "id": "1bhadSi94gtv"
      }
    },
    {
      "cell_type": "markdown",
      "source": [
        "Label Encoding the \"Gender\" column"
      ],
      "metadata": {
        "id": "ihCMnmPL4kOY"
      }
    },
    {
      "cell_type": "markdown",
      "source": [
        "One Hot Encoding the \"Geography\" column"
      ],
      "metadata": {
        "id": "kBZB36U-4nRO"
      }
    },
    {
      "cell_type": "markdown",
      "source": [
        "### Splitting the dataset into the Training set and Test set"
      ],
      "metadata": {
        "id": "gdjqsdb34sfG"
      }
    },
    {
      "cell_type": "markdown",
      "source": [
        "### Feature Scaling"
      ],
      "metadata": {
        "id": "3iUn0Oa54w6H"
      }
    },
    {
      "cell_type": "markdown",
      "source": [
        "## Part 2 - Building the ANN"
      ],
      "metadata": {
        "id": "aNp_tpEs413g"
      }
    },
    {
      "cell_type": "markdown",
      "source": [
        "### Initializing the ANN"
      ],
      "metadata": {
        "id": "4734jDTd4-fu"
      }
    },
    {
      "cell_type": "markdown",
      "source": [
        "### Adding the input layer and the first hidden layer"
      ],
      "metadata": {
        "id": "aotV9KqN4-_T"
      }
    },
    {
      "cell_type": "markdown",
      "source": [
        "### Adding the second hidden layer"
      ],
      "metadata": {
        "id": "hnpYOkml5CEr"
      }
    },
    {
      "cell_type": "markdown",
      "source": [
        "### Adding the output layer"
      ],
      "metadata": {
        "id": "JER_4eiu5EL4"
      }
    },
    {
      "cell_type": "markdown",
      "source": [
        "### Compiling the ANN"
      ],
      "metadata": {
        "id": "Z27wAGcH5HCx"
      }
    },
    {
      "cell_type": "markdown",
      "source": [
        "### Training the ANN on the Training set"
      ],
      "metadata": {
        "id": "M2aG94h95MFg"
      }
    },
    {
      "cell_type": "markdown",
      "source": [
        "## Part 4 - Making the predictions and evaluating the model"
      ],
      "metadata": {
        "id": "uaogGLDj5PIR"
      }
    },
    {
      "cell_type": "markdown",
      "source": [
        "### Predicting the result of a single observation"
      ],
      "metadata": {
        "id": "5cNFHZfB5P6Y"
      }
    },
    {
      "cell_type": "markdown",
      "source": [
        "### Predicting the Test set results"
      ],
      "metadata": {
        "id": "gCnnOIWT5TKX"
      }
    },
    {
      "cell_type": "markdown",
      "source": [
        "### Making the Confusion Matrix"
      ],
      "metadata": {
        "id": "nu0Rrife5eFI"
      }
    },
    {
      "cell_type": "code",
      "execution_count": null,
      "metadata": {
        "id": "Q28YK0JE317g"
      },
      "outputs": [],
      "source": [
        ""
      ]
    }
  ]
}